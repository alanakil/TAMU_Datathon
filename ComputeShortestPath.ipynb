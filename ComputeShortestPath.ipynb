{
 "cells": [
  {
   "cell_type": "code",
   "execution_count": 1,
   "metadata": {},
   "outputs": [],
   "source": [
    "import numpy as np\n",
    "import pandas as pd\n",
    "import gc "
   ]
  },
  {
   "cell_type": "code",
   "execution_count": 2,
   "metadata": {},
   "outputs": [
    {
     "name": "stdout",
     "output_type": "stream",
     "text": [
      "3001120103000.csv  3001120103100.csv  3001120103200.csv  3001120103300.csv\r\n",
      "3001120103001.csv  3001120103101.csv  3001120103201.csv  3001120103301.csv\r\n",
      "3001120103002.csv  3001120103102.csv  3001120103202.csv  3001120103302.csv\r\n",
      "3001120103003.csv  3001120103103.csv  3001120103203.csv  3001120103303.csv\r\n",
      "3001120103010.csv  3001120103110.csv  3001120103210.csv  3001120103310.csv\r\n",
      "3001120103011.csv  3001120103111.csv  3001120103211.csv  3001120103311.csv\r\n",
      "3001120103012.csv  3001120103112.csv  3001120103212.csv  3001120103312.csv\r\n",
      "3001120103013.csv  3001120103113.csv  3001120103213.csv  3001120103313.csv\r\n",
      "3001120103020.csv  3001120103120.csv  3001120103220.csv  3001120103320.csv\r\n",
      "3001120103021.csv  3001120103121.csv  3001120103221.csv  3001120103321.csv\r\n",
      "3001120103022.csv  3001120103122.csv  3001120103222.csv  3001120103322.csv\r\n",
      "3001120103023.csv  3001120103123.csv  3001120103223.csv  3001120103323.csv\r\n",
      "3001120103030.csv  3001120103130.csv  3001120103230.csv  3001120103330.csv\r\n",
      "3001120103031.csv  3001120103131.csv  3001120103231.csv  3001120103331.csv\r\n",
      "3001120103032.csv  3001120103132.csv  3001120103232.csv  3001120103332.csv\r\n",
      "3001120103033.csv  3001120103133.csv  3001120103233.csv  3001120103333.csv\r\n"
     ]
    }
   ],
   "source": [
    "!ls fb_datathon_dataset/ml_preds_csv "
   ]
  },
  {
   "cell_type": "code",
   "execution_count": 3,
   "metadata": {},
   "outputs": [
    {
     "name": "stdout",
     "output_type": "stream",
     "text": [
      " 3001120103.xml\t\t\t        ml_preds_png\r\n",
      "'Datathon Challenge_ Map With AI.pdf'   routing_challenge_pairs.csv\r\n",
      " df_map.csv\t\t\t        tz_popdens_sample.csv\r\n",
      " ml_preds_csv\r\n"
     ]
    }
   ],
   "source": [
    "!ls fb_datathon_dataset/"
   ]
  },
  {
   "cell_type": "markdown",
   "metadata": {},
   "source": [
    "# Order of the map\n",
    "### We did not know that you actually ordered the map for us.... But it works!!"
   ]
  },
  {
   "cell_type": "code",
   "execution_count": 4,
   "metadata": {},
   "outputs": [
    {
     "data": {
      "text/plain": [
       "64"
      ]
     },
     "execution_count": 4,
     "metadata": {},
     "output_type": "execute_result"
    }
   ],
   "source": [
    "#Map list\n",
    "import glob, os\n",
    "parent_dir = 'fb_datathon_dataset/ml_preds_csv/'\n",
    "listOfFile=[]\n",
    "for pdf_file in glob.glob(os.path.join(parent_dir, '*.csv')):\n",
    "    a=pdf_file.split('/')[2].split('.')\n",
    "    listOfFile.append(int(a[0]))\n",
    "len(listOfFile)\n"
   ]
  },
  {
   "cell_type": "code",
   "execution_count": 5,
   "metadata": {},
   "outputs": [
    {
     "data": {
      "text/html": [
       "<div>\n",
       "<style scoped>\n",
       "    .dataframe tbody tr th:only-of-type {\n",
       "        vertical-align: middle;\n",
       "    }\n",
       "\n",
       "    .dataframe tbody tr th {\n",
       "        vertical-align: top;\n",
       "    }\n",
       "\n",
       "    .dataframe thead th {\n",
       "        text-align: right;\n",
       "    }\n",
       "</style>\n",
       "<table border=\"1\" class=\"dataframe\">\n",
       "  <thead>\n",
       "    <tr style=\"text-align: right;\">\n",
       "      <th></th>\n",
       "      <th>pixel_i</th>\n",
       "      <th>pixel_j</th>\n",
       "      <th>val</th>\n",
       "      <th>latitude</th>\n",
       "      <th>longitude</th>\n",
       "    </tr>\n",
       "  </thead>\n",
       "  <tbody>\n",
       "    <tr>\n",
       "      <th>0</th>\n",
       "      <td>0</td>\n",
       "      <td>424</td>\n",
       "      <td>6</td>\n",
       "      <td>-5.965754</td>\n",
       "      <td>35.510087</td>\n",
       "    </tr>\n",
       "    <tr>\n",
       "      <th>1</th>\n",
       "      <td>0</td>\n",
       "      <td>425</td>\n",
       "      <td>7</td>\n",
       "      <td>-5.965754</td>\n",
       "      <td>35.510092</td>\n",
       "    </tr>\n",
       "    <tr>\n",
       "      <th>2</th>\n",
       "      <td>0</td>\n",
       "      <td>426</td>\n",
       "      <td>8</td>\n",
       "      <td>-5.965754</td>\n",
       "      <td>35.510098</td>\n",
       "    </tr>\n",
       "    <tr>\n",
       "      <th>3</th>\n",
       "      <td>0</td>\n",
       "      <td>427</td>\n",
       "      <td>9</td>\n",
       "      <td>-5.965754</td>\n",
       "      <td>35.510103</td>\n",
       "    </tr>\n",
       "    <tr>\n",
       "      <th>4</th>\n",
       "      <td>0</td>\n",
       "      <td>428</td>\n",
       "      <td>8</td>\n",
       "      <td>-5.965754</td>\n",
       "      <td>35.510108</td>\n",
       "    </tr>\n",
       "  </tbody>\n",
       "</table>\n",
       "</div>"
      ],
      "text/plain": [
       "   pixel_i  pixel_j  val  latitude  longitude\n",
       "0        0      424    6 -5.965754  35.510087\n",
       "1        0      425    7 -5.965754  35.510092\n",
       "2        0      426    8 -5.965754  35.510098\n",
       "3        0      427    9 -5.965754  35.510103\n",
       "4        0      428    8 -5.965754  35.510108"
      ]
     },
     "execution_count": 5,
     "metadata": {},
     "output_type": "execute_result"
    }
   ],
   "source": [
    "#Pixel distance\n",
    "map_=3001120103000\n",
    "df_temp=pd.read_csv(\"fb_datathon_dataset/ml_preds_csv/{}.csv\".format(map_))\n",
    "df_temp.head()"
   ]
  },
  {
   "cell_type": "code",
   "execution_count": 6,
   "metadata": {
    "scrolled": true
   },
   "outputs": [],
   "source": [
    "#Constant\n",
    "j_unit=np.abs(df_temp.iloc[0].longitude-df_temp.iloc[1].longitude)\n",
    "i_unit=np.abs(list(df_temp[df_temp.pixel_i==1].latitude)[0]-df_temp.iloc[0].latitude)"
   ]
  },
  {
   "cell_type": "code",
   "execution_count": 7,
   "metadata": {},
   "outputs": [],
   "source": [
    "df=pd.DataFrame({})\n",
    "first_pix=[]\n",
    "arrayPoint=[]\n",
    "for map_ in listOfFile:\n",
    "    df=pd.read_csv(\"fb_datathon_dataset/ml_preds_csv/{}.csv\".format(map_))\n",
    "    a_point=df.iloc[0]\n",
    "    first_point_lat=(a_point.latitude-i_unit*a_point.pixel_i)\n",
    "    first_point_long=(a_point.longitude-j_unit*a_point.pixel_j)\n",
    "    arrayPoint.append((first_point_lat,first_point_long,map_))"
   ]
  },
  {
   "cell_type": "code",
   "execution_count": 8,
   "metadata": {},
   "outputs": [
    {
     "data": {
      "text/plain": [
       "<Figure size 640x480 with 1 Axes>"
      ]
     },
     "metadata": {},
     "output_type": "display_data"
    }
   ],
   "source": [
    "import matplotlib.pyplot as plt\n",
    "x=[ i[0] for i in arrayPoint]\n",
    "y=[ i[1] for i in arrayPoint]\n",
    "map_name=[ i[2] for i in arrayPoint]\n",
    "\n",
    "area = np.pi*5\n",
    "\n",
    "plt.scatter(x, y, s=area, alpha=0.5)\n",
    "plt.title('Scatter plot pythonspot.com')\n",
    "plt.xlabel('x')\n",
    "plt.ylabel('y')\n",
    "plt.show()\n"
   ]
  },
  {
   "cell_type": "code",
   "execution_count": 9,
   "metadata": {},
   "outputs": [],
   "source": [
    "arrayPoint.sort()\n",
    "list_map=[i[0] for i in arrayPoint]"
   ]
  },
  {
   "cell_type": "code",
   "execution_count": 10,
   "metadata": {},
   "outputs": [],
   "source": [
    "list_=[]\n",
    "\n",
    "for i in [1,2,3,4,5,6,7,8]:\n",
    "    list_.append([j[2] for j in arrayPoint[(i-1)*8:i*8]])\n",
    "\n",
    "df_map=pd.DataFrame({})\n",
    "count=0\n",
    "for i in np.array(list_).T:\n",
    "    k=list(i)\n",
    "    k.reverse()\n",
    "    df_map[\"{}\".format(count)]=k\n",
    "    count+=1"
   ]
  },
  {
   "cell_type": "code",
   "execution_count": 11,
   "metadata": {},
   "outputs": [
    {
     "data": {
      "text/html": [
       "<div>\n",
       "<style scoped>\n",
       "    .dataframe tbody tr th:only-of-type {\n",
       "        vertical-align: middle;\n",
       "    }\n",
       "\n",
       "    .dataframe tbody tr th {\n",
       "        vertical-align: top;\n",
       "    }\n",
       "\n",
       "    .dataframe thead th {\n",
       "        text-align: right;\n",
       "    }\n",
       "</style>\n",
       "<table border=\"1\" class=\"dataframe\">\n",
       "  <thead>\n",
       "    <tr style=\"text-align: right;\">\n",
       "      <th></th>\n",
       "      <th>0</th>\n",
       "      <th>1</th>\n",
       "      <th>2</th>\n",
       "      <th>3</th>\n",
       "      <th>4</th>\n",
       "      <th>5</th>\n",
       "      <th>6</th>\n",
       "      <th>7</th>\n",
       "    </tr>\n",
       "  </thead>\n",
       "  <tbody>\n",
       "    <tr>\n",
       "      <th>0</th>\n",
       "      <td>3001120103000</td>\n",
       "      <td>3001120103001</td>\n",
       "      <td>3001120103010</td>\n",
       "      <td>3001120103011</td>\n",
       "      <td>3001120103100</td>\n",
       "      <td>3001120103101</td>\n",
       "      <td>3001120103110</td>\n",
       "      <td>3001120103111</td>\n",
       "    </tr>\n",
       "    <tr>\n",
       "      <th>1</th>\n",
       "      <td>3001120103002</td>\n",
       "      <td>3001120103003</td>\n",
       "      <td>3001120103012</td>\n",
       "      <td>3001120103013</td>\n",
       "      <td>3001120103102</td>\n",
       "      <td>3001120103103</td>\n",
       "      <td>3001120103112</td>\n",
       "      <td>3001120103113</td>\n",
       "    </tr>\n",
       "    <tr>\n",
       "      <th>2</th>\n",
       "      <td>3001120103020</td>\n",
       "      <td>3001120103021</td>\n",
       "      <td>3001120103030</td>\n",
       "      <td>3001120103031</td>\n",
       "      <td>3001120103120</td>\n",
       "      <td>3001120103121</td>\n",
       "      <td>3001120103130</td>\n",
       "      <td>3001120103131</td>\n",
       "    </tr>\n",
       "    <tr>\n",
       "      <th>3</th>\n",
       "      <td>3001120103022</td>\n",
       "      <td>3001120103023</td>\n",
       "      <td>3001120103032</td>\n",
       "      <td>3001120103033</td>\n",
       "      <td>3001120103122</td>\n",
       "      <td>3001120103123</td>\n",
       "      <td>3001120103132</td>\n",
       "      <td>3001120103133</td>\n",
       "    </tr>\n",
       "    <tr>\n",
       "      <th>4</th>\n",
       "      <td>3001120103200</td>\n",
       "      <td>3001120103201</td>\n",
       "      <td>3001120103210</td>\n",
       "      <td>3001120103211</td>\n",
       "      <td>3001120103300</td>\n",
       "      <td>3001120103301</td>\n",
       "      <td>3001120103310</td>\n",
       "      <td>3001120103311</td>\n",
       "    </tr>\n",
       "    <tr>\n",
       "      <th>5</th>\n",
       "      <td>3001120103202</td>\n",
       "      <td>3001120103203</td>\n",
       "      <td>3001120103212</td>\n",
       "      <td>3001120103213</td>\n",
       "      <td>3001120103302</td>\n",
       "      <td>3001120103303</td>\n",
       "      <td>3001120103312</td>\n",
       "      <td>3001120103313</td>\n",
       "    </tr>\n",
       "    <tr>\n",
       "      <th>6</th>\n",
       "      <td>3001120103220</td>\n",
       "      <td>3001120103221</td>\n",
       "      <td>3001120103230</td>\n",
       "      <td>3001120103231</td>\n",
       "      <td>3001120103320</td>\n",
       "      <td>3001120103321</td>\n",
       "      <td>3001120103330</td>\n",
       "      <td>3001120103331</td>\n",
       "    </tr>\n",
       "    <tr>\n",
       "      <th>7</th>\n",
       "      <td>3001120103222</td>\n",
       "      <td>3001120103223</td>\n",
       "      <td>3001120103232</td>\n",
       "      <td>3001120103233</td>\n",
       "      <td>3001120103322</td>\n",
       "      <td>3001120103323</td>\n",
       "      <td>3001120103332</td>\n",
       "      <td>3001120103333</td>\n",
       "    </tr>\n",
       "  </tbody>\n",
       "</table>\n",
       "</div>"
      ],
      "text/plain": [
       "               0              1              2              3              4  \\\n",
       "0  3001120103000  3001120103001  3001120103010  3001120103011  3001120103100   \n",
       "1  3001120103002  3001120103003  3001120103012  3001120103013  3001120103102   \n",
       "2  3001120103020  3001120103021  3001120103030  3001120103031  3001120103120   \n",
       "3  3001120103022  3001120103023  3001120103032  3001120103033  3001120103122   \n",
       "4  3001120103200  3001120103201  3001120103210  3001120103211  3001120103300   \n",
       "5  3001120103202  3001120103203  3001120103212  3001120103213  3001120103302   \n",
       "6  3001120103220  3001120103221  3001120103230  3001120103231  3001120103320   \n",
       "7  3001120103222  3001120103223  3001120103232  3001120103233  3001120103322   \n",
       "\n",
       "               5              6              7  \n",
       "0  3001120103101  3001120103110  3001120103111  \n",
       "1  3001120103103  3001120103112  3001120103113  \n",
       "2  3001120103121  3001120103130  3001120103131  \n",
       "3  3001120103123  3001120103132  3001120103133  \n",
       "4  3001120103301  3001120103310  3001120103311  \n",
       "5  3001120103303  3001120103312  3001120103313  \n",
       "6  3001120103321  3001120103330  3001120103331  \n",
       "7  3001120103323  3001120103332  3001120103333  "
      ]
     },
     "execution_count": 11,
     "metadata": {},
     "output_type": "execute_result"
    }
   ],
   "source": [
    "df_map"
   ]
  },
  {
   "cell_type": "code",
   "execution_count": 12,
   "metadata": {},
   "outputs": [
    {
     "name": "stdout",
     "output_type": "stream",
     "text": [
      "rm: cannot remove 'Data/df_map.csv': No such file or directory\r\n"
     ]
    }
   ],
   "source": [
    "!rm Data/df_map.csv\n",
    "df_map.to_csv(\"fb_datathon_dataset/df_map.csv\")"
   ]
  },
  {
   "cell_type": "markdown",
   "metadata": {},
   "source": [
    "# Find the shortest distance"
   ]
  },
  {
   "cell_type": "code",
   "execution_count": 13,
   "metadata": {},
   "outputs": [
    {
     "name": "stdout",
     "output_type": "stream",
     "text": [
      "101563\n"
     ]
    }
   ],
   "source": [
    "#Import population\n",
    "pop_dens=pd.read_csv(\"fb_datathon_dataset/tz_popdens_sample.csv\")\n",
    "print(len(pop_dens))"
   ]
  },
  {
   "cell_type": "code",
   "execution_count": 14,
   "metadata": {},
   "outputs": [],
   "source": [
    "# This function returns the matrix of population density that is in each tile.\n",
    "def pop_dens_map(maps):\n",
    "    df_map=pd.read_csv(\"fb_datathon_dataset/ml_preds_csv/{}.csv\".format(maps))\n",
    "    row_=df_map.iloc[0]\n",
    "    \n",
    "    x_0=row_.latitude-i_unit*row_.pixel_i\n",
    "    x_n=x_0+8192*i_unit\n",
    "    y_0=row_.longitude-j_unit*row_.pixel_j\n",
    "    y_n=y_0+8192*j_unit\n",
    "\n",
    "    fool = pop_dens[(pop_dens['latitude']>x_0)&(pop_dens['latitude']<x_n)&(pop_dens['longitude']>y_0)&(pop_dens['longitude']<y_n)]\n",
    "    return fool "
   ]
  },
  {
   "cell_type": "code",
   "execution_count": 15,
   "metadata": {},
   "outputs": [
    {
     "data": {
      "text/plain": [
       "3001120103003"
      ]
     },
     "execution_count": 15,
     "metadata": {},
     "output_type": "execute_result"
    }
   ],
   "source": [
    "df_map.iloc[1,1]"
   ]
  },
  {
   "cell_type": "code",
   "execution_count": 16,
   "metadata": {},
   "outputs": [],
   "source": [
    "def clean_map(maps):\n",
    "    df_map=pd.read_csv(\"fb_datathon_dataset/ml_preds_csv/{}.csv\".format(maps))\n",
    "    return df_map[df_map['val']>75]"
   ]
  },
  {
   "cell_type": "code",
   "execution_count": 17,
   "metadata": {},
   "outputs": [],
   "source": [
    "def l2_norm(p1,p2):\n",
    "    dist=(p1[0]-p2[0])**2+(p1[1]-p2[1])**2\n",
    "    return dist"
   ]
  },
  {
   "cell_type": "code",
   "execution_count": 18,
   "metadata": {
    "scrolled": false
   },
   "outputs": [
    {
     "data": {
      "text/html": [
       "<div>\n",
       "<style scoped>\n",
       "    .dataframe tbody tr th:only-of-type {\n",
       "        vertical-align: middle;\n",
       "    }\n",
       "\n",
       "    .dataframe tbody tr th {\n",
       "        vertical-align: top;\n",
       "    }\n",
       "\n",
       "    .dataframe thead th {\n",
       "        text-align: right;\n",
       "    }\n",
       "</style>\n",
       "<table border=\"1\" class=\"dataframe\">\n",
       "  <thead>\n",
       "    <tr style=\"text-align: right;\">\n",
       "      <th></th>\n",
       "      <th>0</th>\n",
       "      <th>1</th>\n",
       "      <th>2</th>\n",
       "      <th>3</th>\n",
       "      <th>4</th>\n",
       "      <th>5</th>\n",
       "      <th>6</th>\n",
       "      <th>7</th>\n",
       "    </tr>\n",
       "  </thead>\n",
       "  <tbody>\n",
       "    <tr>\n",
       "      <th>0</th>\n",
       "      <td>3001120103000</td>\n",
       "      <td>3001120103001</td>\n",
       "      <td>3001120103010</td>\n",
       "      <td>3001120103011</td>\n",
       "      <td>3001120103100</td>\n",
       "      <td>3001120103101</td>\n",
       "      <td>3001120103110</td>\n",
       "      <td>3001120103111</td>\n",
       "    </tr>\n",
       "    <tr>\n",
       "      <th>1</th>\n",
       "      <td>3001120103002</td>\n",
       "      <td>3001120103003</td>\n",
       "      <td>3001120103012</td>\n",
       "      <td>3001120103013</td>\n",
       "      <td>3001120103102</td>\n",
       "      <td>3001120103103</td>\n",
       "      <td>3001120103112</td>\n",
       "      <td>3001120103113</td>\n",
       "    </tr>\n",
       "    <tr>\n",
       "      <th>2</th>\n",
       "      <td>3001120103020</td>\n",
       "      <td>3001120103021</td>\n",
       "      <td>3001120103030</td>\n",
       "      <td>3001120103031</td>\n",
       "      <td>3001120103120</td>\n",
       "      <td>3001120103121</td>\n",
       "      <td>3001120103130</td>\n",
       "      <td>3001120103131</td>\n",
       "    </tr>\n",
       "    <tr>\n",
       "      <th>3</th>\n",
       "      <td>3001120103022</td>\n",
       "      <td>3001120103023</td>\n",
       "      <td>3001120103032</td>\n",
       "      <td>3001120103033</td>\n",
       "      <td>3001120103122</td>\n",
       "      <td>3001120103123</td>\n",
       "      <td>3001120103132</td>\n",
       "      <td>3001120103133</td>\n",
       "    </tr>\n",
       "    <tr>\n",
       "      <th>4</th>\n",
       "      <td>3001120103200</td>\n",
       "      <td>3001120103201</td>\n",
       "      <td>3001120103210</td>\n",
       "      <td>3001120103211</td>\n",
       "      <td>3001120103300</td>\n",
       "      <td>3001120103301</td>\n",
       "      <td>3001120103310</td>\n",
       "      <td>3001120103311</td>\n",
       "    </tr>\n",
       "  </tbody>\n",
       "</table>\n",
       "</div>"
      ],
      "text/plain": [
       "               0              1              2              3              4  \\\n",
       "0  3001120103000  3001120103001  3001120103010  3001120103011  3001120103100   \n",
       "1  3001120103002  3001120103003  3001120103012  3001120103013  3001120103102   \n",
       "2  3001120103020  3001120103021  3001120103030  3001120103031  3001120103120   \n",
       "3  3001120103022  3001120103023  3001120103032  3001120103033  3001120103122   \n",
       "4  3001120103200  3001120103201  3001120103210  3001120103211  3001120103300   \n",
       "\n",
       "               5              6              7  \n",
       "0  3001120103101  3001120103110  3001120103111  \n",
       "1  3001120103103  3001120103112  3001120103113  \n",
       "2  3001120103121  3001120103130  3001120103131  \n",
       "3  3001120103123  3001120103132  3001120103133  \n",
       "4  3001120103301  3001120103310  3001120103311  "
      ]
     },
     "execution_count": 18,
     "metadata": {},
     "output_type": "execute_result"
    }
   ],
   "source": [
    "df_map.head()"
   ]
  },
  {
   "cell_type": "code",
   "execution_count": 19,
   "metadata": {},
   "outputs": [
    {
     "data": {
      "text/plain": [
       "[3001120103311,\n",
       " 3001120103013,\n",
       " 3001120103010,\n",
       " 3001120103110,\n",
       " 3001120103023,\n",
       " 3001120103333,\n",
       " 3001120103011,\n",
       " 3001120103330,\n",
       " 3001120103021,\n",
       " 3001120103100,\n",
       " 3001120103301,\n",
       " 3001120103203,\n",
       " 3001120103232,\n",
       " 3001120103320,\n",
       " 3001120103111,\n",
       " 3001120103213,\n",
       " 3001120103231,\n",
       " 3001120103210,\n",
       " 3001120103230,\n",
       " 3001120103022,\n",
       " 3001120103032,\n",
       " 3001120103131,\n",
       " 3001120103322,\n",
       " 3001120103211,\n",
       " 3001120103103,\n",
       " 3001120103300,\n",
       " 3001120103312,\n",
       " 3001120103212,\n",
       " 3001120103113,\n",
       " 3001120103331,\n",
       " 3001120103003,\n",
       " 3001120103222,\n",
       " 3001120103223,\n",
       " 3001120103200,\n",
       " 3001120103221,\n",
       " 3001120103323,\n",
       " 3001120103112,\n",
       " 3001120103031,\n",
       " 3001120103000,\n",
       " 3001120103123,\n",
       " 3001120103121,\n",
       " 3001120103201,\n",
       " 3001120103220,\n",
       " 3001120103233,\n",
       " 3001120103313,\n",
       " 3001120103332,\n",
       " 3001120103122,\n",
       " 3001120103102,\n",
       " 3001120103101,\n",
       " 3001120103001,\n",
       " 3001120103033,\n",
       " 3001120103020,\n",
       " 3001120103133,\n",
       " 3001120103310,\n",
       " 3001120103321,\n",
       " 3001120103130,\n",
       " 3001120103030,\n",
       " 3001120103132,\n",
       " 3001120103002,\n",
       " 3001120103302,\n",
       " 3001120103120,\n",
       " 3001120103303,\n",
       " 3001120103202,\n",
       " 3001120103012]"
      ]
     },
     "execution_count": 19,
     "metadata": {},
     "output_type": "execute_result"
    }
   ],
   "source": [
    "listOfFile"
   ]
  },
  {
   "cell_type": "markdown",
   "metadata": {},
   "source": [
    "### Some testing"
   ]
  },
  {
   "cell_type": "code",
   "execution_count": 20,
   "metadata": {},
   "outputs": [],
   "source": [
    "num_pop=[]\n",
    "for i in listOfFile:\n",
    "    num_pop.append(len(pop_dens_map(i)))"
   ]
  },
  {
   "cell_type": "code",
   "execution_count": 21,
   "metadata": {
    "scrolled": true
   },
   "outputs": [
    {
     "data": {
      "text/plain": [
       "93977"
      ]
     },
     "execution_count": 21,
     "metadata": {},
     "output_type": "execute_result"
    }
   ],
   "source": [
    "np.array(num_pop).sum()"
   ]
  },
  {
   "cell_type": "code",
   "execution_count": 22,
   "metadata": {},
   "outputs": [
    {
     "data": {
      "text/plain": [
       "101563"
      ]
     },
     "execution_count": 22,
     "metadata": {},
     "output_type": "execute_result"
    }
   ],
   "source": [
    "len(pop_dens)"
   ]
  },
  {
   "cell_type": "code",
   "execution_count": 23,
   "metadata": {},
   "outputs": [],
   "source": [
    "# For each image id, open the pandas matrix.\n",
    "# df_map gives you the id.\n",
    "maps=3001120103000\n",
    "df_maps=pd.read_csv(\"fb_datathon_dataset/ml_preds_csv/{}.csv\".format(maps))"
   ]
  },
  {
   "cell_type": "code",
   "execution_count": 24,
   "metadata": {},
   "outputs": [
    {
     "data": {
      "text/plain": [
       "0"
      ]
     },
     "execution_count": 24,
     "metadata": {},
     "output_type": "execute_result"
    }
   ],
   "source": [
    "len(pop_dens_map(3001120103000))"
   ]
  },
  {
   "cell_type": "code",
   "execution_count": 25,
   "metadata": {},
   "outputs": [
    {
     "name": "stdout",
     "output_type": "stream",
     "text": [
      "-6.009453902907334 -5.965753671065527 35.5078125 35.55175244808197\n"
     ]
    }
   ],
   "source": [
    "print(df_maps.latitude.min(),df_maps.latitude.max(),df_maps.longitude.min(),df_maps.longitude.max())"
   ]
  },
  {
   "cell_type": "code",
   "execution_count": 26,
   "metadata": {},
   "outputs": [
    {
     "name": "stdout",
     "output_type": "stream",
     "text": [
      "-6.31506018824 -5.9658935187800015 35.50796484532001 35.85935373702\n"
     ]
    }
   ],
   "source": [
    "print(pop_dens.latitude.min(),pop_dens.latitude.max(),pop_dens.longitude.min(),pop_dens.longitude.max())"
   ]
  },
  {
   "cell_type": "markdown",
   "metadata": {},
   "source": [
    "So there are some sample that is not in our maps set. Especially, one of the map (3001120103000) has no population."
   ]
  },
  {
   "cell_type": "markdown",
   "metadata": {},
   "source": [
    "## Work"
   ]
  },
  {
   "cell_type": "code",
   "execution_count": 27,
   "metadata": {
    "collapsed": true
   },
   "outputs": [
    {
     "name": "stdout",
     "output_type": "stream",
     "text": [
      "0 0\n",
      "0 1\n",
      "0 2\n",
      "0 3\n",
      "0 4\n",
      "0 5\n",
      "0 6\n",
      "0 7\n",
      "1 0\n",
      "1 1\n",
      "1 2\n",
      "1 3\n",
      "1 4\n",
      "1 5\n",
      "1 6\n",
      "1 7\n",
      "2 0\n",
      "2 1\n",
      "2 2\n",
      "2 3\n",
      "2 4\n",
      "2 5\n",
      "2 6\n",
      "2 7\n",
      "3 0\n",
      "3 1\n",
      "3 2\n",
      "3 3\n",
      "3 4\n",
      "3 5\n",
      "3 6\n",
      "3 7\n",
      "4 0\n",
      "4 1\n",
      "4 2\n",
      "4 3\n",
      "4 4\n",
      "4 5\n",
      "4 6\n",
      "4 7\n",
      "5 0\n",
      "5 1\n",
      "5 2\n",
      "5 3\n",
      "5 4\n",
      "5 5\n",
      "5 6\n",
      "5 7\n",
      "6 0\n",
      "6 1\n",
      "6 2\n",
      "6 3\n",
      "6 4\n",
      "6 5\n",
      "6 6\n",
      "6 7\n",
      "7 0\n",
      "7 1\n",
      "7 2\n",
      "7 3\n",
      "7 4\n",
      "7 5\n",
      "7 6\n",
      "7 7\n"
     ]
    }
   ],
   "source": [
    "full_image = np.zeros((8192*8,8*8192),dtype=np.uint8)\n",
    "for i in range(len(df_map)):\n",
    "    for j in range(len(df_map)):\n",
    "        maps = df_map.iloc[i,j]\n",
    "        df_maps=pd.read_csv(\"fb_datathon_dataset/ml_preds_csv/{}.csv\".format(maps))\n",
    "        indx = df_maps.index[df_maps['val'] > 75]\n",
    "        sss = df_maps[['pixel_i','pixel_j']]\n",
    "        A = np.zeros((8192,8192),dtype=np.uint8)\n",
    "        pixels = sss.iloc[indx].to_numpy()\n",
    "        for k in range(len(pixels)):\n",
    "            A[pixels[k,0],pixels[k,1]] = int(1)\n",
    "        full_image[i*8192:(i+1)*8192,j*8192:(j+1)*8192] = int(1) - A\n",
    "        print(i, j)\n"
   ]
  },
  {
   "cell_type": "code",
   "execution_count": 217,
   "metadata": {},
   "outputs": [
    {
     "data": {
      "text/plain": [
       "8"
      ]
     },
     "execution_count": 217,
     "metadata": {},
     "output_type": "execute_result"
    }
   ],
   "source": []
  },
  {
   "cell_type": "code",
   "execution_count": 28,
   "metadata": {},
   "outputs": [
    {
     "name": "stdout",
     "output_type": "stream",
     "text": [
      "4294.967296\n"
     ]
    }
   ],
   "source": [
    "print(full_image.nbytes/1000000)\n"
   ]
  },
  {
   "cell_type": "code",
   "execution_count": 29,
   "metadata": {},
   "outputs": [],
   "source": [
    "class Node():\n",
    "    \"\"\"A node class for A* Pathfinding\"\"\"\n",
    "\n",
    "    def __init__(self, parent=None, position=None):\n",
    "        self.parent = parent\n",
    "        self.position = position\n",
    "\n",
    "        self.g = 0\n",
    "        self.h = 0\n",
    "        self.f = 0\n",
    "\n",
    "    def __eq__(self, other):\n",
    "        return self.position == other.position\n",
    "\n",
    "\n",
    "def astar(maze, start, end):\n",
    "    \"\"\"Returns a list of tuples as a path from the given start to the given end in the given maze\"\"\"\n",
    "\n",
    "    # Create start and end node\n",
    "    start_node = Node(None, start)\n",
    "    start_node.g = start_node.h = start_node.f = 0\n",
    "    end_node = Node(None, end)\n",
    "    end_node.g = end_node.h = end_node.f = 0\n",
    "\n",
    "    # Initialize both open and closed list\n",
    "    open_list = []\n",
    "    closed_list = []\n",
    "\n",
    "    # Add the start node\n",
    "    open_list.append(start_node)\n",
    "\n",
    "    # Loop until you find the end\n",
    "    while len(open_list) > 0:\n",
    "\n",
    "        # Get the current node\n",
    "        current_node = open_list[0]\n",
    "        current_index = 0\n",
    "        for index, item in enumerate(open_list):\n",
    "            if item.f < current_node.f:\n",
    "                current_node = item\n",
    "                current_index = index\n",
    "\n",
    "        # Pop current off open list, add to closed list\n",
    "        open_list.pop(current_index)\n",
    "        closed_list.append(current_node)\n",
    "\n",
    "        # Found the goal\n",
    "        if current_node == end_node:\n",
    "            path = []\n",
    "            current = current_node\n",
    "            while current is not None:\n",
    "                path.append(current.position)\n",
    "                current = current.parent\n",
    "            return path[::-1] # Return reversed path\n",
    "\n",
    "        # Generate children\n",
    "        children = []\n",
    "        for new_position in [(0, -1), (0, 1), (-1, 0), (1, 0), (-1, -1), (-1, 1), (1, -1), (1, 1)]: # Adjacent squares\n",
    "\n",
    "            # Get node position\n",
    "            node_position = (current_node.position[0] + new_position[0], current_node.position[1] + new_position[1])\n",
    "\n",
    "            # Make sure within range\n",
    "            if node_position[0] > (len(maze) - 1) or node_position[0] < 0 or node_position[1] > (len(maze[len(maze)-1]) -1) or node_position[1] < 0:\n",
    "                continue\n",
    "\n",
    "            # Make sure walkable terrain\n",
    "            if maze[node_position[0]][node_position[1]] != 0:\n",
    "                continue\n",
    "\n",
    "            # Create new node\n",
    "            new_node = Node(current_node, node_position)\n",
    "\n",
    "            # Append\n",
    "            children.append(new_node)\n",
    "\n",
    "        # Loop through children\n",
    "        for child in children:\n",
    "\n",
    "            # Child is on the closed list\n",
    "            for closed_child in closed_list:\n",
    "                if child == closed_child:\n",
    "                    continue\n",
    "\n",
    "            # Create the f, g, and h values\n",
    "            child.g = current_node.g + 1\n",
    "            child.h = ((child.position[0] - end_node.position[0]) ** 2) + ((child.position[1] - end_node.position[1]) ** 2)\n",
    "            child.f = child.g + child.h\n",
    "\n",
    "            # Child is already in the open list\n",
    "            for open_node in open_list:\n",
    "                if child == open_node and child.g > open_node.g:\n",
    "                    continue\n",
    "\n",
    "            # Add the child to the open list\n",
    "            open_list.append(child)"
   ]
  },
  {
   "cell_type": "code",
   "execution_count": 44,
   "metadata": {},
   "outputs": [
    {
     "data": {
      "text/plain": [
       "array([[0.0000000e+00, 1.9749153e-02, 8.1910000e+03, 7.9090000e+03,\n",
       "        3.0011202e+12],\n",
       "       [1.0000000e+00, 8.8375170e-03, 3.3300000e+02, 8.1910000e+03,\n",
       "        3.0011202e+12],\n",
       "       [2.0000000e+00, 8.8995965e-03, 2.6660000e+03, 0.0000000e+00,\n",
       "        3.0011202e+12],\n",
       "       ...,\n",
       "       [9.9700000e+02, 1.5921966e-03, 2.3040000e+03, 8.1910000e+03,\n",
       "        3.0011202e+12],\n",
       "       [9.9800000e+02, 0.0000000e+00, 2.7060000e+03, 7.8220000e+03,\n",
       "        3.0011202e+12],\n",
       "       [9.9900000e+02, 4.5163175e-03, 1.0350000e+03, 8.1770000e+03,\n",
       "        3.0011202e+12]])"
      ]
     },
     "execution_count": 44,
     "metadata": {},
     "output_type": "execute_result"
    }
   ],
   "source": [
    "# Use the source and destionation files now.\n",
    "sources = pd.read_csv('./source_dists.csv')\n",
    "destinations = pd.read_csv('./destination_dists.csv')\n",
    "sources.head()\n",
    "\n",
    "sources = sources[~(sources[['patch_loc']]==0).any(axis=1)].to_numpy()\n",
    "destinations = destinations[~(destinations[['patch_loc']]==0).any(axis=1)].to_numpy()\n",
    "\n",
    "sources.shape\n",
    "sources\n"
   ]
  },
  {
   "cell_type": "code",
   "execution_count": 52,
   "metadata": {},
   "outputs": [
    {
     "data": {
      "text/plain": [
       "(array([], dtype=int64), array([], dtype=int64))"
      ]
     },
     "execution_count": 52,
     "metadata": {},
     "output_type": "execute_result"
    }
   ],
   "source": [
    "np.where(df_map.to_numpy().astype(int)==int(sources[0,4]))"
   ]
  },
  {
   "cell_type": "code",
   "execution_count": 56,
   "metadata": {},
   "outputs": [
    {
     "data": {
      "text/plain": [
       "3001120200000.0"
      ]
     },
     "execution_count": 56,
     "metadata": {},
     "output_type": "execute_result"
    }
   ],
   "source": [
    "sources[0,4]\n",
    "\n"
   ]
  },
  {
   "cell_type": "code",
   "execution_count": 55,
   "metadata": {},
   "outputs": [
    {
     "data": {
      "text/html": [
       "<div>\n",
       "<style scoped>\n",
       "    .dataframe tbody tr th:only-of-type {\n",
       "        vertical-align: middle;\n",
       "    }\n",
       "\n",
       "    .dataframe tbody tr th {\n",
       "        vertical-align: top;\n",
       "    }\n",
       "\n",
       "    .dataframe thead th {\n",
       "        text-align: right;\n",
       "    }\n",
       "</style>\n",
       "<table border=\"1\" class=\"dataframe\">\n",
       "  <thead>\n",
       "    <tr style=\"text-align: right;\">\n",
       "      <th></th>\n",
       "      <th>0</th>\n",
       "      <th>1</th>\n",
       "      <th>2</th>\n",
       "      <th>3</th>\n",
       "      <th>4</th>\n",
       "      <th>5</th>\n",
       "      <th>6</th>\n",
       "      <th>7</th>\n",
       "    </tr>\n",
       "  </thead>\n",
       "  <tbody>\n",
       "    <tr>\n",
       "      <th>0</th>\n",
       "      <td>3001120103000</td>\n",
       "      <td>3001120103001</td>\n",
       "      <td>3001120103010</td>\n",
       "      <td>3001120103011</td>\n",
       "      <td>3001120103100</td>\n",
       "      <td>3001120103101</td>\n",
       "      <td>3001120103110</td>\n",
       "      <td>3001120103111</td>\n",
       "    </tr>\n",
       "    <tr>\n",
       "      <th>1</th>\n",
       "      <td>3001120103002</td>\n",
       "      <td>3001120103003</td>\n",
       "      <td>3001120103012</td>\n",
       "      <td>3001120103013</td>\n",
       "      <td>3001120103102</td>\n",
       "      <td>3001120103103</td>\n",
       "      <td>3001120103112</td>\n",
       "      <td>3001120103113</td>\n",
       "    </tr>\n",
       "    <tr>\n",
       "      <th>2</th>\n",
       "      <td>3001120103020</td>\n",
       "      <td>3001120103021</td>\n",
       "      <td>3001120103030</td>\n",
       "      <td>3001120103031</td>\n",
       "      <td>3001120103120</td>\n",
       "      <td>3001120103121</td>\n",
       "      <td>3001120103130</td>\n",
       "      <td>3001120103131</td>\n",
       "    </tr>\n",
       "    <tr>\n",
       "      <th>3</th>\n",
       "      <td>3001120103022</td>\n",
       "      <td>3001120103023</td>\n",
       "      <td>3001120103032</td>\n",
       "      <td>3001120103033</td>\n",
       "      <td>3001120103122</td>\n",
       "      <td>3001120103123</td>\n",
       "      <td>3001120103132</td>\n",
       "      <td>3001120103133</td>\n",
       "    </tr>\n",
       "    <tr>\n",
       "      <th>4</th>\n",
       "      <td>3001120103200</td>\n",
       "      <td>3001120103201</td>\n",
       "      <td>3001120103210</td>\n",
       "      <td>3001120103211</td>\n",
       "      <td>3001120103300</td>\n",
       "      <td>3001120103301</td>\n",
       "      <td>3001120103310</td>\n",
       "      <td>3001120103311</td>\n",
       "    </tr>\n",
       "    <tr>\n",
       "      <th>5</th>\n",
       "      <td>3001120103202</td>\n",
       "      <td>3001120103203</td>\n",
       "      <td>3001120103212</td>\n",
       "      <td>3001120103213</td>\n",
       "      <td>3001120103302</td>\n",
       "      <td>3001120103303</td>\n",
       "      <td>3001120103312</td>\n",
       "      <td>3001120103313</td>\n",
       "    </tr>\n",
       "    <tr>\n",
       "      <th>6</th>\n",
       "      <td>3001120103220</td>\n",
       "      <td>3001120103221</td>\n",
       "      <td>3001120103230</td>\n",
       "      <td>3001120103231</td>\n",
       "      <td>3001120103320</td>\n",
       "      <td>3001120103321</td>\n",
       "      <td>3001120103330</td>\n",
       "      <td>3001120103331</td>\n",
       "    </tr>\n",
       "    <tr>\n",
       "      <th>7</th>\n",
       "      <td>3001120103222</td>\n",
       "      <td>3001120103223</td>\n",
       "      <td>3001120103232</td>\n",
       "      <td>3001120103233</td>\n",
       "      <td>3001120103322</td>\n",
       "      <td>3001120103323</td>\n",
       "      <td>3001120103332</td>\n",
       "      <td>3001120103333</td>\n",
       "    </tr>\n",
       "  </tbody>\n",
       "</table>\n",
       "</div>"
      ],
      "text/plain": [
       "               0              1              2              3              4  \\\n",
       "0  3001120103000  3001120103001  3001120103010  3001120103011  3001120103100   \n",
       "1  3001120103002  3001120103003  3001120103012  3001120103013  3001120103102   \n",
       "2  3001120103020  3001120103021  3001120103030  3001120103031  3001120103120   \n",
       "3  3001120103022  3001120103023  3001120103032  3001120103033  3001120103122   \n",
       "4  3001120103200  3001120103201  3001120103210  3001120103211  3001120103300   \n",
       "5  3001120103202  3001120103203  3001120103212  3001120103213  3001120103302   \n",
       "6  3001120103220  3001120103221  3001120103230  3001120103231  3001120103320   \n",
       "7  3001120103222  3001120103223  3001120103232  3001120103233  3001120103322   \n",
       "\n",
       "               5              6              7  \n",
       "0  3001120103101  3001120103110  3001120103111  \n",
       "1  3001120103103  3001120103112  3001120103113  \n",
       "2  3001120103121  3001120103130  3001120103131  \n",
       "3  3001120103123  3001120103132  3001120103133  \n",
       "4  3001120103301  3001120103310  3001120103311  \n",
       "5  3001120103303  3001120103312  3001120103313  \n",
       "6  3001120103321  3001120103330  3001120103331  \n",
       "7  3001120103323  3001120103332  3001120103333  "
      ]
     },
     "execution_count": 55,
     "metadata": {},
     "output_type": "execute_result"
    }
   ],
   "source": [
    "df_map"
   ]
  },
  {
   "cell_type": "code",
   "execution_count": null,
   "metadata": {},
   "outputs": [],
   "source": []
  },
  {
   "cell_type": "code",
   "execution_count": null,
   "metadata": {},
   "outputs": [],
   "source": []
  },
  {
   "cell_type": "code",
   "execution_count": 239,
   "metadata": {},
   "outputs": [
    {
     "name": "stdout",
     "output_type": "stream",
     "text": [
      "[(0, 4422), (1, 4421), (2, 4420), (3, 4419), (4, 4418), (5, 4417), (6, 4416), (7, 4415), (8, 4415)]\n"
     ]
    }
   ],
   "source": [
    "def main(start, end):\n",
    "    \n",
    "    maze = full_image #[[0, 1, 0, 0, 1, 0, 0, 0, 0, 0],\n",
    "            #[0, 1, 0, 0, 1, 0, 0, 0, 0, 0],\n",
    "            #[0, 0, 0, 0, 1, 0, 0, 0, 1, 0],\n",
    "            #[0, 0, 1, 0, 1, 0, 0, 0, 0, 0],\n",
    "            #[0, 0, 0, 0, 1, 0, 0, 0, 0, 0],\n",
    "            #[0, 1, 0, 0, 1, 0, 0, 0, 0, 0],\n",
    "            #[0, 0, 0, 0, 1, 0, 0, 0, 0, 0],\n",
    "            #[0, 0, 0, 0, 1, 0, 0, 0, 0, 0],\n",
    "            #[0, 0, 0, 0, 1, 0, 0, 0, 0, 0],\n",
    "            #[0, 0, 0, 0, 0, 0, 0, 0, 0, 0]]\n",
    "\n",
    "    path = astar(maze, start, end)\n",
    "    print(path)\n",
    "    return(path)\n"
   ]
  },
  {
   "cell_type": "code",
   "execution_count": 265,
   "metadata": {},
   "outputs": [
    {
     "data": {
      "text/plain": [
       "5.8324786822154745e-05"
      ]
     },
     "execution_count": 265,
     "metadata": {},
     "output_type": "execute_result"
    }
   ],
   "source": [
    "for i in range(len(sources))\n",
    "    path = main(sources[],end)\n",
    "\n",
    "    path = np.array(path)\n",
    "    count_diag = 0\n",
    "    count_horiz = 0\n",
    "    count_vert = 0\n",
    "\n",
    "    for i in range(len(path)-1):\n",
    "        if (    np.abs(path[i+1] - path[i]).sum() == 2):\n",
    "            count_diag += 1\n",
    "        elif( np.abs(path[i+1,1] - path[i,1]) == 1):\n",
    "            count_horiz += 1\n",
    "        else: \n",
    "            count_vert += 1\n",
    "\n",
    "    dist = count_horiz * i_unit + count_vert * j_unit + count_diag * (np.sqrt(i_unit**2+j_unit**2))\n",
    "    dist"
   ]
  },
  {
   "cell_type": "code",
   "execution_count": null,
   "metadata": {},
   "outputs": [],
   "source": []
  },
  {
   "cell_type": "code",
   "execution_count": 268,
   "metadata": {},
   "outputs": [
    {
     "data": {
      "text/plain": [
       "5.3644180155743015e-06"
      ]
     },
     "execution_count": 268,
     "metadata": {},
     "output_type": "execute_result"
    }
   ],
   "source": [
    "j_unit"
   ]
  },
  {
   "cell_type": "code",
   "execution_count": 46,
   "metadata": {},
   "outputs": [
    {
     "ename": "KeyError",
     "evalue": "3001120200000",
     "output_type": "error",
     "traceback": [
      "\u001b[0;31m---------------------------------------------------------------------------\u001b[0m",
      "\u001b[0;31mKeyError\u001b[0m                                  Traceback (most recent call last)",
      "\u001b[0;32m~/miniconda2/envs/bmnn/lib/python3.6/site-packages/pandas/core/indexes/base.py\u001b[0m in \u001b[0;36mget_loc\u001b[0;34m(self, key, method, tolerance)\u001b[0m\n\u001b[1;32m   2601\u001b[0m             \u001b[0;32mtry\u001b[0m\u001b[0;34m:\u001b[0m\u001b[0;34m\u001b[0m\u001b[0;34m\u001b[0m\u001b[0m\n\u001b[0;32m-> 2602\u001b[0;31m                 \u001b[0;32mreturn\u001b[0m \u001b[0mself\u001b[0m\u001b[0;34m.\u001b[0m\u001b[0m_engine\u001b[0m\u001b[0;34m.\u001b[0m\u001b[0mget_loc\u001b[0m\u001b[0;34m(\u001b[0m\u001b[0mkey\u001b[0m\u001b[0;34m)\u001b[0m\u001b[0;34m\u001b[0m\u001b[0;34m\u001b[0m\u001b[0m\n\u001b[0m\u001b[1;32m   2603\u001b[0m             \u001b[0;32mexcept\u001b[0m \u001b[0mKeyError\u001b[0m\u001b[0;34m:\u001b[0m\u001b[0;34m\u001b[0m\u001b[0;34m\u001b[0m\u001b[0m\n",
      "\u001b[0;32mpandas/_libs/index.pyx\u001b[0m in \u001b[0;36mpandas._libs.index.IndexEngine.get_loc\u001b[0;34m()\u001b[0m\n",
      "\u001b[0;32mpandas/_libs/index.pyx\u001b[0m in \u001b[0;36mpandas._libs.index.IndexEngine.get_loc\u001b[0;34m()\u001b[0m\n",
      "\u001b[0;32mpandas/_libs/hashtable_class_helper.pxi\u001b[0m in \u001b[0;36mpandas._libs.hashtable.PyObjectHashTable.get_item\u001b[0;34m()\u001b[0m\n",
      "\u001b[0;32mpandas/_libs/hashtable_class_helper.pxi\u001b[0m in \u001b[0;36mpandas._libs.hashtable.PyObjectHashTable.get_item\u001b[0;34m()\u001b[0m\n",
      "\u001b[0;31mKeyError\u001b[0m: 3001120200000.0",
      "\nDuring handling of the above exception, another exception occurred:\n",
      "\u001b[0;31mKeyError\u001b[0m                                  Traceback (most recent call last)",
      "\u001b[0;32m<ipython-input-46-d216275c00fb>\u001b[0m in \u001b[0;36m<module>\u001b[0;34m\u001b[0m\n\u001b[0;32m----> 1\u001b[0;31m \u001b[0mdf_maps\u001b[0m\u001b[0;34m[\u001b[0m\u001b[0msources\u001b[0m\u001b[0;34m[\u001b[0m\u001b[0;36m0\u001b[0m\u001b[0;34m,\u001b[0m\u001b[0;36m4\u001b[0m\u001b[0;34m]\u001b[0m\u001b[0;34m]\u001b[0m\u001b[0;34m\u001b[0m\u001b[0;34m\u001b[0m\u001b[0m\n\u001b[0m",
      "\u001b[0;32m~/miniconda2/envs/bmnn/lib/python3.6/site-packages/pandas/core/frame.py\u001b[0m in \u001b[0;36m__getitem__\u001b[0;34m(self, key)\u001b[0m\n\u001b[1;32m   2915\u001b[0m             \u001b[0;32mif\u001b[0m \u001b[0mself\u001b[0m\u001b[0;34m.\u001b[0m\u001b[0mcolumns\u001b[0m\u001b[0;34m.\u001b[0m\u001b[0mnlevels\u001b[0m \u001b[0;34m>\u001b[0m \u001b[0;36m1\u001b[0m\u001b[0;34m:\u001b[0m\u001b[0;34m\u001b[0m\u001b[0;34m\u001b[0m\u001b[0m\n\u001b[1;32m   2916\u001b[0m                 \u001b[0;32mreturn\u001b[0m \u001b[0mself\u001b[0m\u001b[0;34m.\u001b[0m\u001b[0m_getitem_multilevel\u001b[0m\u001b[0;34m(\u001b[0m\u001b[0mkey\u001b[0m\u001b[0;34m)\u001b[0m\u001b[0;34m\u001b[0m\u001b[0;34m\u001b[0m\u001b[0m\n\u001b[0;32m-> 2917\u001b[0;31m             \u001b[0mindexer\u001b[0m \u001b[0;34m=\u001b[0m \u001b[0mself\u001b[0m\u001b[0;34m.\u001b[0m\u001b[0mcolumns\u001b[0m\u001b[0;34m.\u001b[0m\u001b[0mget_loc\u001b[0m\u001b[0;34m(\u001b[0m\u001b[0mkey\u001b[0m\u001b[0;34m)\u001b[0m\u001b[0;34m\u001b[0m\u001b[0;34m\u001b[0m\u001b[0m\n\u001b[0m\u001b[1;32m   2918\u001b[0m             \u001b[0;32mif\u001b[0m \u001b[0mis_integer\u001b[0m\u001b[0;34m(\u001b[0m\u001b[0mindexer\u001b[0m\u001b[0;34m)\u001b[0m\u001b[0;34m:\u001b[0m\u001b[0;34m\u001b[0m\u001b[0;34m\u001b[0m\u001b[0m\n\u001b[1;32m   2919\u001b[0m                 \u001b[0mindexer\u001b[0m \u001b[0;34m=\u001b[0m \u001b[0;34m[\u001b[0m\u001b[0mindexer\u001b[0m\u001b[0;34m]\u001b[0m\u001b[0;34m\u001b[0m\u001b[0;34m\u001b[0m\u001b[0m\n",
      "\u001b[0;32m~/miniconda2/envs/bmnn/lib/python3.6/site-packages/pandas/core/indexes/base.py\u001b[0m in \u001b[0;36mget_loc\u001b[0;34m(self, key, method, tolerance)\u001b[0m\n\u001b[1;32m   2602\u001b[0m                 \u001b[0;32mreturn\u001b[0m \u001b[0mself\u001b[0m\u001b[0;34m.\u001b[0m\u001b[0m_engine\u001b[0m\u001b[0;34m.\u001b[0m\u001b[0mget_loc\u001b[0m\u001b[0;34m(\u001b[0m\u001b[0mkey\u001b[0m\u001b[0;34m)\u001b[0m\u001b[0;34m\u001b[0m\u001b[0;34m\u001b[0m\u001b[0m\n\u001b[1;32m   2603\u001b[0m             \u001b[0;32mexcept\u001b[0m \u001b[0mKeyError\u001b[0m\u001b[0;34m:\u001b[0m\u001b[0;34m\u001b[0m\u001b[0;34m\u001b[0m\u001b[0m\n\u001b[0;32m-> 2604\u001b[0;31m                 \u001b[0;32mreturn\u001b[0m \u001b[0mself\u001b[0m\u001b[0;34m.\u001b[0m\u001b[0m_engine\u001b[0m\u001b[0;34m.\u001b[0m\u001b[0mget_loc\u001b[0m\u001b[0;34m(\u001b[0m\u001b[0mself\u001b[0m\u001b[0;34m.\u001b[0m\u001b[0m_maybe_cast_indexer\u001b[0m\u001b[0;34m(\u001b[0m\u001b[0mkey\u001b[0m\u001b[0;34m)\u001b[0m\u001b[0;34m)\u001b[0m\u001b[0;34m\u001b[0m\u001b[0;34m\u001b[0m\u001b[0m\n\u001b[0m\u001b[1;32m   2605\u001b[0m         \u001b[0mindexer\u001b[0m \u001b[0;34m=\u001b[0m \u001b[0mself\u001b[0m\u001b[0;34m.\u001b[0m\u001b[0mget_indexer\u001b[0m\u001b[0;34m(\u001b[0m\u001b[0;34m[\u001b[0m\u001b[0mkey\u001b[0m\u001b[0;34m]\u001b[0m\u001b[0;34m,\u001b[0m \u001b[0mmethod\u001b[0m\u001b[0;34m=\u001b[0m\u001b[0mmethod\u001b[0m\u001b[0;34m,\u001b[0m \u001b[0mtolerance\u001b[0m\u001b[0;34m=\u001b[0m\u001b[0mtolerance\u001b[0m\u001b[0;34m)\u001b[0m\u001b[0;34m\u001b[0m\u001b[0;34m\u001b[0m\u001b[0m\n\u001b[1;32m   2606\u001b[0m         \u001b[0;32mif\u001b[0m \u001b[0mindexer\u001b[0m\u001b[0;34m.\u001b[0m\u001b[0mndim\u001b[0m \u001b[0;34m>\u001b[0m \u001b[0;36m1\u001b[0m \u001b[0;32mor\u001b[0m \u001b[0mindexer\u001b[0m\u001b[0;34m.\u001b[0m\u001b[0msize\u001b[0m \u001b[0;34m>\u001b[0m \u001b[0;36m1\u001b[0m\u001b[0;34m:\u001b[0m\u001b[0;34m\u001b[0m\u001b[0;34m\u001b[0m\u001b[0m\n",
      "\u001b[0;32mpandas/_libs/index.pyx\u001b[0m in \u001b[0;36mpandas._libs.index.IndexEngine.get_loc\u001b[0;34m()\u001b[0m\n",
      "\u001b[0;32mpandas/_libs/index.pyx\u001b[0m in \u001b[0;36mpandas._libs.index.IndexEngine.get_loc\u001b[0;34m()\u001b[0m\n",
      "\u001b[0;32mpandas/_libs/hashtable_class_helper.pxi\u001b[0m in \u001b[0;36mpandas._libs.hashtable.PyObjectHashTable.get_item\u001b[0;34m()\u001b[0m\n",
      "\u001b[0;32mpandas/_libs/hashtable_class_helper.pxi\u001b[0m in \u001b[0;36mpandas._libs.hashtable.PyObjectHashTable.get_item\u001b[0;34m()\u001b[0m\n",
      "\u001b[0;31mKeyError\u001b[0m: 3001120200000"
     ]
    }
   ],
   "source": [
    "df_maps[sources[0,4]]"
   ]
  },
  {
   "cell_type": "code",
   "execution_count": null,
   "metadata": {},
   "outputs": [],
   "source": []
  },
  {
   "cell_type": "code",
   "execution_count": null,
   "metadata": {},
   "outputs": [],
   "source": []
  },
  {
   "cell_type": "code",
   "execution_count": 237,
   "metadata": {},
   "outputs": [
    {
     "data": {
      "image/png": "[encoded data removed]",
      "text/plain": [
       "<Figure size 720x720 with 2 Axes>"
      ]
     },
     "metadata": {
      "needs_background": "dark"
     },
     "output_type": "display_data"
    }
   ],
   "source": [
    "import numpy as np\n",
    "import matplotlib.pyplot as plt\n",
    "plt.figure(figsize=(10,10))\n",
    "plt.imshow(full_image[0:10,4400:4500],cmap='Greys',  interpolation='nearest')\n",
    "plt.colorbar()\n",
    "plt.show()"
   ]
  },
  {
   "cell_type": "code",
   "execution_count": null,
   "metadata": {},
   "outputs": [],
   "source": []
  },
  {
   "cell_type": "code",
   "execution_count": null,
   "metadata": {},
   "outputs": [],
   "source": []
  }
 ],
 "metadata": {
  "kernelspec": {
   "display_name": "Python 3",
   "language": "python",
   "name": "python3"
  },
  "language_info": {
   "codemirror_mode": {
    "name": "ipython",
    "version": 3
   },
   "file_extension": ".py",
   "mimetype": "text/x-python",
   "name": "python",
   "nbconvert_exporter": "python",
   "pygments_lexer": "ipython3",
   "version": "3.6.8"
  }
 },
 "nbformat": 4,
 "nbformat_minor": 2
}
